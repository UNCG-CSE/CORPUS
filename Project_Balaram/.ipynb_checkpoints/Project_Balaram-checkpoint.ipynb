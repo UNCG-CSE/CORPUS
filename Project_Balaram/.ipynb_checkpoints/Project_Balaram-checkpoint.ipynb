{
 "cells": [
  {
   "cell_type": "markdown",
   "metadata": {},
   "source": [
    "#  /Laptops"
   ]
  },
  {
   "cell_type": "code",
   "execution_count": 1,
   "metadata": {
    "scrolled": true
   },
   "outputs": [
    {
     "data": {
      "text/html": [
       "<div>\n",
       "<style>\n",
       "    .dataframe thead tr:only-child th {\n",
       "        text-align: right;\n",
       "    }\n",
       "\n",
       "    .dataframe thead th {\n",
       "        text-align: left;\n",
       "    }\n",
       "\n",
       "    .dataframe tbody tr th {\n",
       "        vertical-align: top;\n",
       "    }\n",
       "</style>\n",
       "<table border=\"1\" class=\"dataframe\">\n",
       "  <thead>\n",
       "    <tr style=\"text-align: right;\">\n",
       "      <th></th>\n",
       "      <th>Author</th>\n",
       "      <th>Content</th>\n",
       "      <th>Date</th>\n",
       "      <th>Name</th>\n",
       "      <th>Overall</th>\n",
       "      <th>ProductID</th>\n",
       "      <th>ReviewID</th>\n",
       "      <th>Title</th>\n",
       "    </tr>\n",
       "  </thead>\n",
       "  <tbody>\n",
       "    <tr>\n",
       "      <th>0</th>\n",
       "      <td>Walt Baty \"Walt 0000\"</td>\n",
       "      <td>Google is on to something here, but without a ...</td>\n",
       "      <td>January 10, 2012</td>\n",
       "      <td>None</td>\n",
       "      <td>5.0</td>\n",
       "      <td>1440490899</td>\n",
       "      <td>RUSGOFLB5XRWR</td>\n",
       "      <td>The most underrated and un-hyped new system</td>\n",
       "    </tr>\n",
       "    <tr>\n",
       "      <th>1</th>\n",
       "      <td>Poor  Audiophile \"Poor  Audiophile\"</td>\n",
       "      <td>This is a great intro. to the subject of Chrom...</td>\n",
       "      <td>January 30, 2012</td>\n",
       "      <td>None</td>\n",
       "      <td>5.0</td>\n",
       "      <td>1440490899</td>\n",
       "      <td>RAM6A980S6YMK</td>\n",
       "      <td>Excellent!!</td>\n",
       "    </tr>\n",
       "    <tr>\n",
       "      <th>2</th>\n",
       "      <td>William B. Rodgers \"peterodgers\"</td>\n",
       "      <td>not just a how to book but more about: 1. wher...</td>\n",
       "      <td>December 17, 2011</td>\n",
       "      <td>None</td>\n",
       "      <td>5.0</td>\n",
       "      <td>1440490899</td>\n",
       "      <td>R1DP7TCV8WOPMA</td>\n",
       "      <td>important chromebook resource</td>\n",
       "    </tr>\n",
       "    <tr>\n",
       "      <th>3</th>\n",
       "      <td>Snowbirds</td>\n",
       "      <td>I have experience with almost every OS out the...</td>\n",
       "      <td>September 23, 2012</td>\n",
       "      <td>None</td>\n",
       "      <td>5.0</td>\n",
       "      <td>1440490899</td>\n",
       "      <td>R212K0UDHZY44A</td>\n",
       "      <td>Could be a life changer</td>\n",
       "    </tr>\n",
       "    <tr>\n",
       "      <th>4</th>\n",
       "      <td>KWL</td>\n",
       "      <td>Disappointed.  I bought this after I got my AR...</td>\n",
       "      <td>December 4, 2012</td>\n",
       "      <td>None</td>\n",
       "      <td>1.0</td>\n",
       "      <td>1440490899</td>\n",
       "      <td>R6GIPSHI7QUUY</td>\n",
       "      <td>Not useful if you know about the Internet</td>\n",
       "    </tr>\n",
       "  </tbody>\n",
       "</table>\n",
       "</div>"
      ],
      "text/plain": [
       "                                Author  \\\n",
       "0                Walt Baty \"Walt 0000\"   \n",
       "1  Poor  Audiophile \"Poor  Audiophile\"   \n",
       "2     William B. Rodgers \"peterodgers\"   \n",
       "3                            Snowbirds   \n",
       "4                                  KWL   \n",
       "\n",
       "                                             Content                Date  \\\n",
       "0  Google is on to something here, but without a ...    January 10, 2012   \n",
       "1  This is a great intro. to the subject of Chrom...    January 30, 2012   \n",
       "2  not just a how to book but more about: 1. wher...   December 17, 2011   \n",
       "3  I have experience with almost every OS out the...  September 23, 2012   \n",
       "4  Disappointed.  I bought this after I got my AR...    December 4, 2012   \n",
       "\n",
       "   Name Overall   ProductID        ReviewID  \\\n",
       "0  None     5.0  1440490899   RUSGOFLB5XRWR   \n",
       "1  None     5.0  1440490899   RAM6A980S6YMK   \n",
       "2  None     5.0  1440490899  R1DP7TCV8WOPMA   \n",
       "3  None     5.0  1440490899  R212K0UDHZY44A   \n",
       "4  None     1.0  1440490899   R6GIPSHI7QUUY   \n",
       "\n",
       "                                         Title  \n",
       "0  The most underrated and un-hyped new system  \n",
       "1                                  Excellent!!  \n",
       "2                important chromebook resource  \n",
       "3                      Could be a life changer  \n",
       "4    Not useful if you know about the Internet  "
      ]
     },
     "execution_count": 1,
     "metadata": {},
     "output_type": "execute_result"
    }
   ],
   "source": [
    "import json,pandas,glob #Appending all the products info from multiple JSON files to single dataframe\n",
    "import os.path\n",
    "\n",
    "read_files = glob.glob(\"Data/laptops/*.json\")\n",
    "Final_Laptops = pandas.DataFrame()\n",
    "for i in range(0,len(read_files)):\n",
    "    with open(read_files[i], 'rb') as x:\n",
    "        JSONFILE = json.load(x)\n",
    "    prod = JSONFILE['ProductInfo']\n",
    "    Review = JSONFILE['Reviews']\n",
    "    #d1.append(prod)\n",
    "    #d2.append(Review)\n",
    "    Reviews = pandas.DataFrame(Review)\n",
    "    Products = pandas.DataFrame(prod, index = Reviews.index)\n",
    "    merge = pandas.concat([Reviews, Products.ProductID, Products.Name], axis=1,join = 'inner')\n",
    "    Final_Laptops = pandas.concat([Final_Laptops,merge])\n",
    "    \n",
    "Final_Laptops.head()"
   ]
  },
  {
   "cell_type": "code",
   "execution_count": 2,
   "metadata": {
    "collapsed": true
   },
   "outputs": [],
   "source": [
    "Final_DF = Final_Laptops.set_index('ProductID')"
   ]
  },
  {
   "cell_type": "code",
   "execution_count": 3,
   "metadata": {
    "collapsed": true
   },
   "outputs": [],
   "source": [
    "Final_DF_notnull = Final_DF[Final_DF['Name'].notnull()]"
   ]
  },
  {
   "cell_type": "code",
   "execution_count": 4,
   "metadata": {
    "collapsed": true
   },
   "outputs": [],
   "source": [
    "Final_DF_null = Final_DF[Final_DF['Name'].isnull()]"
   ]
  },
  {
   "cell_type": "code",
   "execution_count": 5,
   "metadata": {},
   "outputs": [
    {
     "data": {
      "text/plain": [
       "Sentiment(polarity=0.5541666666666667, subjectivity=0.6111111111111112)"
      ]
     },
     "execution_count": 5,
     "metadata": {},
     "output_type": "execute_result"
    }
   ],
   "source": [
    "from textblob import TextBlob, Word\n",
    "\n",
    "x = TextBlob(Final_DF.Content[0])\n",
    "\n",
    "p_of_s = x.tags #parts of speech tags\n",
    "\n",
    "len(x.words) #word count\n",
    "\n",
    "x.sentiment #shows pos and neg score"
   ]
  },
  {
   "cell_type": "code",
   "execution_count": 6,
   "metadata": {
    "scrolled": true
   },
   "outputs": [
    {
     "data": {
      "text/plain": [
       "ProductID\n",
       "B00005RI8P            Basic 500 MHz iBook\n",
       "B00005RI8P                           poor\n",
       "B00005RI8P    HOW TO OPERATE THIS LAPTOP.\n",
       "B00005RI8P          My Favorite Computer!\n",
       "B00005RI8P                 Great Computer\n",
       "Name: Title, dtype: object"
      ]
     },
     "execution_count": 6,
     "metadata": {},
     "output_type": "execute_result"
    }
   ],
   "source": [
    "Final_DF_notnull.Title.head()"
   ]
  },
  {
   "cell_type": "code",
   "execution_count": 11,
   "metadata": {},
   "outputs": [
    {
     "data": {
      "text/plain": [
       "Author      20642\n",
       "Content     20666\n",
       "Date        20669\n",
       "Name        20670\n",
       "Overall     20670\n",
       "ReviewID    20670\n",
       "Title       20670\n",
       "dtype: int64"
      ]
     },
     "execution_count": 11,
     "metadata": {},
     "output_type": "execute_result"
    }
   ],
   "source": [
    "Final_DF_notnull.count()"
   ]
  },
  {
   "cell_type": "code",
   "execution_count": 39,
   "metadata": {},
   "outputs": [
    {
     "data": {
      "text/plain": [
       "ProductID\n",
       "B00005RI8P    apple ibook laptop (600-mhz powerpc g3, 128 mb...\n",
       "B00005RI8P    apple ibook laptop (600-mhz powerpc g3, 128 mb...\n",
       "B00005RI8P    apple ibook laptop (600-mhz powerpc g3, 128 mb...\n",
       "B00005RI8P    apple ibook laptop (600-mhz powerpc g3, 128 mb...\n",
       "B00005RI8P    apple ibook laptop (600-mhz powerpc g3, 128 mb...\n",
       "Name: Name, dtype: object"
      ]
     },
     "execution_count": 39,
     "metadata": {},
     "output_type": "execute_result"
    }
   ],
   "source": [
    "Final_DF_Names = Final_DF_notnull.Name.str.lower()\n",
    "Final_DF_Names[:5]"
   ]
  },
  {
   "cell_type": "code",
   "execution_count": 18,
   "metadata": {},
   "outputs": [
    {
     "data": {
      "text/html": [
       "<div>\n",
       "<style>\n",
       "    .dataframe thead tr:only-child th {\n",
       "        text-align: right;\n",
       "    }\n",
       "\n",
       "    .dataframe thead th {\n",
       "        text-align: left;\n",
       "    }\n",
       "\n",
       "    .dataframe tbody tr th {\n",
       "        vertical-align: top;\n",
       "    }\n",
       "</style>\n",
       "<table border=\"1\" class=\"dataframe\">\n",
       "  <thead>\n",
       "    <tr style=\"text-align: right;\">\n",
       "      <th></th>\n",
       "      <th>Make</th>\n",
       "    </tr>\n",
       "    <tr>\n",
       "      <th>ProductID</th>\n",
       "      <th></th>\n",
       "    </tr>\n",
       "  </thead>\n",
       "  <tbody>\n",
       "    <tr>\n",
       "      <th>B00005RI8P</th>\n",
       "      <td>apple</td>\n",
       "    </tr>\n",
       "    <tr>\n",
       "      <th>B00005RI8P</th>\n",
       "      <td>apple</td>\n",
       "    </tr>\n",
       "    <tr>\n",
       "      <th>B00005RI8P</th>\n",
       "      <td>apple</td>\n",
       "    </tr>\n",
       "    <tr>\n",
       "      <th>B00005RI8P</th>\n",
       "      <td>apple</td>\n",
       "    </tr>\n",
       "    <tr>\n",
       "      <th>B00005RI8P</th>\n",
       "      <td>apple</td>\n",
       "    </tr>\n",
       "  </tbody>\n",
       "</table>\n",
       "</div>"
      ],
      "text/plain": [
       "             Make\n",
       "ProductID        \n",
       "B00005RI8P  apple\n",
       "B00005RI8P  apple\n",
       "B00005RI8P  apple\n",
       "B00005RI8P  apple\n",
       "B00005RI8P  apple"
      ]
     },
     "execution_count": 18,
     "metadata": {},
     "output_type": "execute_result"
    }
   ],
   "source": [
    "Makes = Final_DF_Names.str.split().str.get(0)\n",
    "\n",
    "Makes_DF = Makes.to_frame('Make')\n",
    "\n",
    "Makes_DF[:5]"
   ]
  },
  {
   "cell_type": "code",
   "execution_count": 20,
   "metadata": {},
   "outputs": [],
   "source": [
    "df_make = pandas.concat([Final_DF_notnull, Makes_DF],axis = 1, join_axes=[Final_DF_notnull.index])"
   ]
  },
  {
   "cell_type": "code",
   "execution_count": 31,
   "metadata": {},
   "outputs": [
    {
     "data": {
      "text/html": [
       "<div>\n",
       "<style>\n",
       "    .dataframe thead tr:only-child th {\n",
       "        text-align: right;\n",
       "    }\n",
       "\n",
       "    .dataframe thead th {\n",
       "        text-align: left;\n",
       "    }\n",
       "\n",
       "    .dataframe tbody tr th {\n",
       "        vertical-align: top;\n",
       "    }\n",
       "</style>\n",
       "<table border=\"1\" class=\"dataframe\">\n",
       "  <thead>\n",
       "    <tr style=\"text-align: right;\">\n",
       "      <th></th>\n",
       "      <th>Count</th>\n",
       "    </tr>\n",
       "  </thead>\n",
       "  <tbody>\n",
       "    <tr>\n",
       "      <th>asus</th>\n",
       "      <td>3987</td>\n",
       "    </tr>\n",
       "    <tr>\n",
       "      <th>apple</th>\n",
       "      <td>3810</td>\n",
       "    </tr>\n",
       "    <tr>\n",
       "      <th>acer</th>\n",
       "      <td>2630</td>\n",
       "    </tr>\n",
       "    <tr>\n",
       "      <th>hp</th>\n",
       "      <td>2307</td>\n",
       "    </tr>\n",
       "    <tr>\n",
       "      <th>samsung</th>\n",
       "      <td>1890</td>\n",
       "    </tr>\n",
       "    <tr>\n",
       "      <th>dell</th>\n",
       "      <td>1841</td>\n",
       "    </tr>\n",
       "    <tr>\n",
       "      <th>lenovo</th>\n",
       "      <td>1328</td>\n",
       "    </tr>\n",
       "    <tr>\n",
       "      <th>toshiba</th>\n",
       "      <td>1014</td>\n",
       "    </tr>\n",
       "    <tr>\n",
       "      <th>sony</th>\n",
       "      <td>859</td>\n",
       "    </tr>\n",
       "    <tr>\n",
       "      <th>gateway</th>\n",
       "      <td>198</td>\n",
       "    </tr>\n",
       "  </tbody>\n",
       "</table>\n",
       "</div>"
      ],
      "text/plain": [
       "         Count\n",
       "asus      3987\n",
       "apple     3810\n",
       "acer      2630\n",
       "hp        2307\n",
       "samsung   1890\n",
       "dell      1841\n",
       "lenovo    1328\n",
       "toshiba   1014\n",
       "sony       859\n",
       "gateway    198"
      ]
     },
     "execution_count": 31,
     "metadata": {},
     "output_type": "execute_result"
    }
   ],
   "source": [
    "top10 = df_make['Make'].value_counts()[:10]\n",
    "\n",
    "top10.to_frame('Count')"
   ]
  },
  {
   "cell_type": "code",
   "execution_count": 138,
   "metadata": {},
   "outputs": [
    {
     "data": {
      "image/png": "[encoded data removed]",
      "text/plain": [
       "<matplotlib.figure.Figure at 0x1a1bbb2f10>"
      ]
     },
     "metadata": {},
     "output_type": "display_data"
    }
   ],
   "source": [
    "import matplotlib.pyplot as plt\n",
    "\n",
    "top10.plot(x = 'index', y = 'Count', kind = 'bar')\n",
    "plt.title(\"Top 10 most reviewed brands\")\n",
    "plt.show()"
   ]
  },
  {
   "cell_type": "code",
   "execution_count": 141,
   "metadata": {},
   "outputs": [
    {
     "data": {
      "text/plain": [
       "u'/Users/balaram_remala/Documents/GitHub/Project_Balaram'"
      ]
     },
     "execution_count": 141,
     "metadata": {},
     "output_type": "execute_result"
    }
   ],
   "source": [
    "pwd"
   ]
  },
  {
   "cell_type": "code",
   "execution_count": 144,
   "metadata": {},
   "outputs": [],
   "source": [
    "df_make.to_pickle(path = '/Users/balaram_remala/Documents/GitHub/Project_Balaram/Laptops_DataFrame', compression = None)"
   ]
  },
  {
   "cell_type": "code",
   "execution_count": 136,
   "metadata": {},
   "outputs": [],
   "source": [
    "#from wordcloud import WordCloud, STOPWORDS\n",
    "\n",
    "#word_count = WordCloud().generate(' '.join(top10.Count))\n",
    "\n",
    "#plt.imshow(word_cloud)\n",
    "#plt.axis('off')\n",
    "#plt.show()"
   ]
  },
  {
   "cell_type": "markdown",
   "metadata": {},
   "source": [
    "## Applying NaiveBayes Classification on Reviews to get Positive/Negative"
   ]
  },
  {
   "cell_type": "code",
   "execution_count": 130,
   "metadata": {
    "collapsed": true
   },
   "outputs": [],
   "source": [
    "neg_words = pandas.read_csv('Data/words/negative-words.txt',encoding='utf-8')\n",
    "neg_words['Tag'] = 'Negative'\n",
    "pos_words = pandas.read_csv('Data/words/positive-words.txt',encoding='utf-8')\n",
    "pos_words['Tag'] = 'Postive'\n",
    "neg_words.to_csv('Data/neg_words.csv', index = None)\n",
    "pos_words.to_csv('Data/pos_words.csv', index = None)"
   ]
  },
  {
   "cell_type": "code",
   "execution_count": 131,
   "metadata": {
    "collapsed": true
   },
   "outputs": [],
   "source": [
    "import glob\n",
    "\n",
    "read_files = glob.glob(\"Data/*.csv\")\n",
    "\n",
    "with open(\"wordlist.csv\", \"wb\") as outfile:\n",
    "    for f in read_files:\n",
    "        with open(f, \"rb\") as infile:\n",
    "            outfile.write(infile.read())"
   ]
  },
  {
   "cell_type": "code",
   "execution_count": 132,
   "metadata": {
    "collapsed": true
   },
   "outputs": [],
   "source": [
    "from textblob.classifiers import NaiveBayesClassifier\n",
    "\n",
    "with open('wordlist.csv', 'r') as fp:\n",
    "     cl = NaiveBayesClassifier(fp, format=\"csv\")"
   ]
  },
  {
   "cell_type": "code",
   "execution_count": 133,
   "metadata": {},
   "outputs": [
    {
     "data": {
      "text/plain": [
       "u'Negative'"
      ]
     },
     "execution_count": 133,
     "metadata": {},
     "output_type": "execute_result"
    }
   ],
   "source": [
    "cl.classify(\"Amaizing but little slow\")"
   ]
  },
  {
   "cell_type": "code",
   "execution_count": 137,
   "metadata": {},
   "outputs": [
    {
     "name": "stdout",
     "output_type": "stream",
     "text": [
      "Basic 500 MHz iBook\n",
      "poor\n",
      "HOW TO OPERATE THIS LAPTOP.\n",
      "My Favorite Computer!\n",
      "Great Computer\n"
     ]
    }
   ],
   "source": [
    "for i in range(5):\n",
    "    print(df_make.values[i][6])"
   ]
  },
  {
   "cell_type": "code",
   "execution_count": 134,
   "metadata": {},
   "outputs": [
    {
     "name": "stdout",
     "output_type": "stream",
     "text": [
      "Postive\n",
      "Negative\n",
      "Postive\n",
      "Postive\n",
      "Postive\n"
     ]
    }
   ],
   "source": [
    "for i in range(5):\n",
    "    print(cl.classify(df_make.values[i][6]))"
   ]
  },
  {
   "cell_type": "code",
   "execution_count": null,
   "metadata": {
    "collapsed": true
   },
   "outputs": [],
   "source": []
  }
 ],
 "metadata": {
  "kernelspec": {
   "display_name": "Python 2",
   "language": "python",
   "name": "python2"
  },
  "language_info": {
   "codemirror_mode": {
    "name": "ipython",
    "version": 2
   },
   "file_extension": ".py",
   "mimetype": "text/x-python",
   "name": "python",
   "nbconvert_exporter": "python",
   "pygments_lexer": "ipython2",
   "version": "2.7.13"
  }
 },
 "nbformat": 4,
 "nbformat_minor": 2
}
