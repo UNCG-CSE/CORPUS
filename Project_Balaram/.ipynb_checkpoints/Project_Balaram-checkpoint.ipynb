{
 "cells": [
  {
   "cell_type": "markdown",
   "metadata": {},
   "source": [
    "#  /Laptops"
   ]
  },
  {
   "cell_type": "code",
   "execution_count": 1,
   "metadata": {
    "scrolled": true
   },
   "outputs": [
    {
     "data": {
      "text/html": [
       "<div>\n",
       "<style>\n",
       "    .dataframe thead tr:only-child th {\n",
       "        text-align: right;\n",
       "    }\n",
       "\n",
       "    .dataframe thead th {\n",
       "        text-align: left;\n",
       "    }\n",
       "\n",
       "    .dataframe tbody tr th {\n",
       "        vertical-align: top;\n",
       "    }\n",
       "</style>\n",
       "<table border=\"1\" class=\"dataframe\">\n",
       "  <thead>\n",
       "    <tr style=\"text-align: right;\">\n",
       "      <th></th>\n",
       "      <th>Author</th>\n",
       "      <th>Content</th>\n",
       "      <th>Date</th>\n",
       "      <th>Name</th>\n",
       "      <th>Overall</th>\n",
       "      <th>ProductID</th>\n",
       "      <th>ReviewID</th>\n",
       "      <th>Title</th>\n",
       "    </tr>\n",
       "  </thead>\n",
       "  <tbody>\n",
       "    <tr>\n",
       "      <th>0</th>\n",
       "      <td>Walt Baty \"Walt 0000\"</td>\n",
       "      <td>Google is on to something here, but without a ...</td>\n",
       "      <td>January 10, 2012</td>\n",
       "      <td>None</td>\n",
       "      <td>5.0</td>\n",
       "      <td>1440490899</td>\n",
       "      <td>RUSGOFLB5XRWR</td>\n",
       "      <td>The most underrated and un-hyped new system</td>\n",
       "    </tr>\n",
       "    <tr>\n",
       "      <th>1</th>\n",
       "      <td>Poor  Audiophile \"Poor  Audiophile\"</td>\n",
       "      <td>This is a great intro. to the subject of Chrom...</td>\n",
       "      <td>January 30, 2012</td>\n",
       "      <td>None</td>\n",
       "      <td>5.0</td>\n",
       "      <td>1440490899</td>\n",
       "      <td>RAM6A980S6YMK</td>\n",
       "      <td>Excellent!!</td>\n",
       "    </tr>\n",
       "    <tr>\n",
       "      <th>2</th>\n",
       "      <td>William B. Rodgers \"peterodgers\"</td>\n",
       "      <td>not just a how to book but more about: 1. wher...</td>\n",
       "      <td>December 17, 2011</td>\n",
       "      <td>None</td>\n",
       "      <td>5.0</td>\n",
       "      <td>1440490899</td>\n",
       "      <td>R1DP7TCV8WOPMA</td>\n",
       "      <td>important chromebook resource</td>\n",
       "    </tr>\n",
       "    <tr>\n",
       "      <th>3</th>\n",
       "      <td>Snowbirds</td>\n",
       "      <td>I have experience with almost every OS out the...</td>\n",
       "      <td>September 23, 2012</td>\n",
       "      <td>None</td>\n",
       "      <td>5.0</td>\n",
       "      <td>1440490899</td>\n",
       "      <td>R212K0UDHZY44A</td>\n",
       "      <td>Could be a life changer</td>\n",
       "    </tr>\n",
       "    <tr>\n",
       "      <th>4</th>\n",
       "      <td>KWL</td>\n",
       "      <td>Disappointed.  I bought this after I got my AR...</td>\n",
       "      <td>December 4, 2012</td>\n",
       "      <td>None</td>\n",
       "      <td>1.0</td>\n",
       "      <td>1440490899</td>\n",
       "      <td>R6GIPSHI7QUUY</td>\n",
       "      <td>Not useful if you know about the Internet</td>\n",
       "    </tr>\n",
       "  </tbody>\n",
       "</table>\n",
       "</div>"
      ],
      "text/plain": [
       "                                Author  \\\n",
       "0                Walt Baty \"Walt 0000\"   \n",
       "1  Poor  Audiophile \"Poor  Audiophile\"   \n",
       "2     William B. Rodgers \"peterodgers\"   \n",
       "3                            Snowbirds   \n",
       "4                                  KWL   \n",
       "\n",
       "                                             Content                Date  \\\n",
       "0  Google is on to something here, but without a ...    January 10, 2012   \n",
       "1  This is a great intro. to the subject of Chrom...    January 30, 2012   \n",
       "2  not just a how to book but more about: 1. wher...   December 17, 2011   \n",
       "3  I have experience with almost every OS out the...  September 23, 2012   \n",
       "4  Disappointed.  I bought this after I got my AR...    December 4, 2012   \n",
       "\n",
       "   Name Overall   ProductID        ReviewID  \\\n",
       "0  None     5.0  1440490899   RUSGOFLB5XRWR   \n",
       "1  None     5.0  1440490899   RAM6A980S6YMK   \n",
       "2  None     5.0  1440490899  R1DP7TCV8WOPMA   \n",
       "3  None     5.0  1440490899  R212K0UDHZY44A   \n",
       "4  None     1.0  1440490899   R6GIPSHI7QUUY   \n",
       "\n",
       "                                         Title  \n",
       "0  The most underrated and un-hyped new system  \n",
       "1                                  Excellent!!  \n",
       "2                important chromebook resource  \n",
       "3                      Could be a life changer  \n",
       "4    Not useful if you know about the Internet  "
      ]
     },
     "execution_count": 1,
     "metadata": {},
     "output_type": "execute_result"
    }
   ],
   "source": [
    "import json,pandas,glob #Appending all the products info from multiple JSON files to single dataframe\n",
    "import os.path\n",
    "\n",
    "read_files = glob.glob(\"Data/laptops/*.json\")\n",
    "Final_Laptops = pandas.DataFrame()\n",
    "for i in range(0,len(read_files)):\n",
    "    with open(read_files[i], 'rb') as x:\n",
    "        JSONFILE = json.load(x)\n",
    "    prod = JSONFILE['ProductInfo']\n",
    "    Review = JSONFILE['Reviews']\n",
    "    #d1.append(prod)\n",
    "    #d2.append(Review)\n",
    "    Reviews = pandas.DataFrame(Review)\n",
    "    Products = pandas.DataFrame(prod, index = Reviews.index)\n",
    "    merge = pandas.concat([Reviews, Products.ProductID, Products.Name], axis=1,join = 'inner')\n",
    "    Final_Laptops = pandas.concat([Final_Laptops,merge])\n",
    "    \n",
    "Final_Laptops.head()"
   ]
  },
  {
   "cell_type": "code",
   "execution_count": 2,
   "metadata": {},
   "outputs": [],
   "source": [
    "Final_DF = Final_Laptops.set_index('ProductID')"
   ]
  },
  {
   "cell_type": "code",
   "execution_count": 3,
   "metadata": {
    "collapsed": true
   },
   "outputs": [],
   "source": [
    "Final_DF_notnull = Final_DF[Final_DF['Name'].notnull()]"
   ]
  },
  {
   "cell_type": "code",
   "execution_count": 4,
   "metadata": {
    "collapsed": true
   },
   "outputs": [],
   "source": [
    "Final_DF_null = Final_DF[Final_DF['Name'].isnull()]"
   ]
  },
  {
   "cell_type": "code",
   "execution_count": 5,
   "metadata": {},
   "outputs": [
    {
     "data": {
      "text/plain": [
       "Sentiment(polarity=0.5541666666666667, subjectivity=0.6111111111111112)"
      ]
     },
     "execution_count": 5,
     "metadata": {},
     "output_type": "execute_result"
    }
   ],
   "source": [
    "from textblob import TextBlob, Word\n",
    "\n",
    "x = TextBlob(Final_DF.Content[0])\n",
    "\n",
    "p_of_s = x.tags #parts of speech tags\n",
    "\n",
    "len(x.words) #word count\n",
    "\n",
    "x.sentiment #shows pos and neg score"
   ]
  },
  {
   "cell_type": "code",
   "execution_count": 6,
   "metadata": {
    "scrolled": true
   },
   "outputs": [
    {
     "data": {
      "text/plain": [
       "ProductID\n",
       "B00005RI8P            Basic 500 MHz iBook\n",
       "B00005RI8P                           poor\n",
       "B00005RI8P    HOW TO OPERATE THIS LAPTOP.\n",
       "B00005RI8P          My Favorite Computer!\n",
       "B00005RI8P                 Great Computer\n",
       "Name: Title, dtype: object"
      ]
     },
     "execution_count": 6,
     "metadata": {},
     "output_type": "execute_result"
    }
   ],
   "source": [
    "Final_DF_notnull.Title.head()"
   ]
  },
  {
   "cell_type": "code",
   "execution_count": 7,
   "metadata": {},
   "outputs": [
    {
     "data": {
      "text/plain": [
       "Author      20642\n",
       "Content     20666\n",
       "Date        20669\n",
       "Name        20670\n",
       "Overall     20670\n",
       "ReviewID    20670\n",
       "Title       20670\n",
       "dtype: int64"
      ]
     },
     "execution_count": 7,
     "metadata": {},
     "output_type": "execute_result"
    }
   ],
   "source": [
    "Final_DF_notnull.count()"
   ]
  },
  {
   "cell_type": "code",
   "execution_count": 8,
   "metadata": {},
   "outputs": [
    {
     "data": {
      "text/plain": [
       "ProductID\n",
       "B00005RI8P    apple ibook laptop (600-mhz powerpc g3, 128 mb...\n",
       "B00005RI8P    apple ibook laptop (600-mhz powerpc g3, 128 mb...\n",
       "B00005RI8P    apple ibook laptop (600-mhz powerpc g3, 128 mb...\n",
       "B00005RI8P    apple ibook laptop (600-mhz powerpc g3, 128 mb...\n",
       "B00005RI8P    apple ibook laptop (600-mhz powerpc g3, 128 mb...\n",
       "Name: Name, dtype: object"
      ]
     },
     "execution_count": 8,
     "metadata": {},
     "output_type": "execute_result"
    }
   ],
   "source": [
    "Final_DF_Names = Final_DF_notnull.Name.str.lower()\n",
    "Final_DF_Names[:5]"
   ]
  },
  {
   "cell_type": "code",
   "execution_count": 9,
   "metadata": {},
   "outputs": [
    {
     "data": {
      "text/html": [
       "<div>\n",
       "<style>\n",
       "    .dataframe thead tr:only-child th {\n",
       "        text-align: right;\n",
       "    }\n",
       "\n",
       "    .dataframe thead th {\n",
       "        text-align: left;\n",
       "    }\n",
       "\n",
       "    .dataframe tbody tr th {\n",
       "        vertical-align: top;\n",
       "    }\n",
       "</style>\n",
       "<table border=\"1\" class=\"dataframe\">\n",
       "  <thead>\n",
       "    <tr style=\"text-align: right;\">\n",
       "      <th></th>\n",
       "      <th>Make</th>\n",
       "    </tr>\n",
       "    <tr>\n",
       "      <th>ProductID</th>\n",
       "      <th></th>\n",
       "    </tr>\n",
       "  </thead>\n",
       "  <tbody>\n",
       "    <tr>\n",
       "      <th>B00005RI8P</th>\n",
       "      <td>apple</td>\n",
       "    </tr>\n",
       "    <tr>\n",
       "      <th>B00005RI8P</th>\n",
       "      <td>apple</td>\n",
       "    </tr>\n",
       "    <tr>\n",
       "      <th>B00005RI8P</th>\n",
       "      <td>apple</td>\n",
       "    </tr>\n",
       "    <tr>\n",
       "      <th>B00005RI8P</th>\n",
       "      <td>apple</td>\n",
       "    </tr>\n",
       "    <tr>\n",
       "      <th>B00005RI8P</th>\n",
       "      <td>apple</td>\n",
       "    </tr>\n",
       "  </tbody>\n",
       "</table>\n",
       "</div>"
      ],
      "text/plain": [
       "             Make\n",
       "ProductID        \n",
       "B00005RI8P  apple\n",
       "B00005RI8P  apple\n",
       "B00005RI8P  apple\n",
       "B00005RI8P  apple\n",
       "B00005RI8P  apple"
      ]
     },
     "execution_count": 9,
     "metadata": {},
     "output_type": "execute_result"
    }
   ],
   "source": [
    "Makes = Final_DF_Names.str.split().str.get(0)\n",
    "\n",
    "Makes_DF = Makes.to_frame('Make')\n",
    "\n",
    "Makes_DF[:5]"
   ]
  },
  {
   "cell_type": "code",
   "execution_count": 10,
   "metadata": {
    "collapsed": true
   },
   "outputs": [],
   "source": [
    "df_make = pandas.concat([Final_DF_notnull, Makes_DF],axis = 1, join_axes=[Final_DF_notnull.index])"
   ]
  },
  {
   "cell_type": "code",
   "execution_count": 11,
   "metadata": {},
   "outputs": [
    {
     "data": {
      "text/html": [
       "<div>\n",
       "<style>\n",
       "    .dataframe thead tr:only-child th {\n",
       "        text-align: right;\n",
       "    }\n",
       "\n",
       "    .dataframe thead th {\n",
       "        text-align: left;\n",
       "    }\n",
       "\n",
       "    .dataframe tbody tr th {\n",
       "        vertical-align: top;\n",
       "    }\n",
       "</style>\n",
       "<table border=\"1\" class=\"dataframe\">\n",
       "  <thead>\n",
       "    <tr style=\"text-align: right;\">\n",
       "      <th></th>\n",
       "      <th>Count</th>\n",
       "    </tr>\n",
       "  </thead>\n",
       "  <tbody>\n",
       "    <tr>\n",
       "      <th>asus</th>\n",
       "      <td>3987</td>\n",
       "    </tr>\n",
       "    <tr>\n",
       "      <th>apple</th>\n",
       "      <td>3810</td>\n",
       "    </tr>\n",
       "    <tr>\n",
       "      <th>acer</th>\n",
       "      <td>2630</td>\n",
       "    </tr>\n",
       "    <tr>\n",
       "      <th>hp</th>\n",
       "      <td>2307</td>\n",
       "    </tr>\n",
       "    <tr>\n",
       "      <th>samsung</th>\n",
       "      <td>1890</td>\n",
       "    </tr>\n",
       "    <tr>\n",
       "      <th>dell</th>\n",
       "      <td>1841</td>\n",
       "    </tr>\n",
       "    <tr>\n",
       "      <th>lenovo</th>\n",
       "      <td>1328</td>\n",
       "    </tr>\n",
       "    <tr>\n",
       "      <th>toshiba</th>\n",
       "      <td>1014</td>\n",
       "    </tr>\n",
       "    <tr>\n",
       "      <th>sony</th>\n",
       "      <td>859</td>\n",
       "    </tr>\n",
       "    <tr>\n",
       "      <th>gateway</th>\n",
       "      <td>198</td>\n",
       "    </tr>\n",
       "  </tbody>\n",
       "</table>\n",
       "</div>"
      ],
      "text/plain": [
       "         Count\n",
       "asus      3987\n",
       "apple     3810\n",
       "acer      2630\n",
       "hp        2307\n",
       "samsung   1890\n",
       "dell      1841\n",
       "lenovo    1328\n",
       "toshiba   1014\n",
       "sony       859\n",
       "gateway    198"
      ]
     },
     "execution_count": 11,
     "metadata": {},
     "output_type": "execute_result"
    }
   ],
   "source": [
    "top10 = df_make['Make'].value_counts()[:10]\n",
    "\n",
    "top10.to_frame('Count')"
   ]
  },
  {
   "cell_type": "code",
   "execution_count": 12,
   "metadata": {},
   "outputs": [
    {
     "data": {
      "image/png": "[encoded data removed]",
      "text/plain": [
       "<matplotlib.figure.Figure at 0x10f0e52d0>"
      ]
     },
     "metadata": {},
     "output_type": "display_data"
    }
   ],
   "source": [
    "import matplotlib.pyplot as plt\n",
    "\n",
    "top10.plot(x = 'index', y = 'Count', kind = 'bar')\n",
    "plt.title(\"Top 10 most reviewed brands\")\n",
    "plt.show()"
   ]
  },
  {
   "cell_type": "code",
   "execution_count": 13,
   "metadata": {},
   "outputs": [
    {
     "data": {
      "text/plain": [
       "u'/Users/balaram_remala/Documents/GitHub/CORPUS/Project_Balaram'"
      ]
     },
     "execution_count": 13,
     "metadata": {},
     "output_type": "execute_result"
    }
   ],
   "source": [
    "pwd"
   ]
  },
  {
   "cell_type": "code",
   "execution_count": 14,
   "metadata": {
    "collapsed": true
   },
   "outputs": [],
   "source": [
    "df_make.to_pickle(path = '/Users/balaram_remala/Documents/GitHub/CORPUS/Project_Balaram/Data/Laptops_DataFrame', compression = None)"
   ]
  },
  {
   "cell_type": "code",
   "execution_count": 15,
   "metadata": {
    "collapsed": true
   },
   "outputs": [],
   "source": [
    "#from wordcloud import WordCloud, STOPWORDS\n",
    "\n",
    "#word_count = WordCloud().generate(' '.join(top10.Count))\n",
    "\n",
    "#plt.imshow(word_cloud)\n",
    "#plt.axis('off')\n",
    "#plt.show()"
   ]
  },
  {
   "cell_type": "markdown",
   "metadata": {},
   "source": [
    "## Applying NaiveBayes Classification on Reviews to get Positive/Negative"
   ]
  },
  {
   "cell_type": "code",
   "execution_count": 16,
   "metadata": {
    "collapsed": true
   },
   "outputs": [],
   "source": [
    "neg_words = pandas.read_csv('Data/words/negative-words.txt',encoding='utf-8')\n",
    "neg_words['Tag'] = 'Negative'\n",
    "pos_words = pandas.read_csv('Data/words/positive-words.txt',encoding='utf-8')\n",
    "pos_words['Tag'] = 'Postive'\n",
    "neu_words = pandas.read_csv('Data/words/neutral-words.txt',encoding='utf-8')\n",
    "neu_words['Tag'] = 'Neutral'\n",
    "neg_words.to_csv('Data/neg_words.csv', index = None)\n",
    "pos_words.to_csv('Data/pos_words.csv', index = None)\n",
    "neu_words.to_csv('Data/neu_words.csv', index = None)"
   ]
  },
  {
   "cell_type": "code",
   "execution_count": 17,
   "metadata": {
    "collapsed": true
   },
   "outputs": [],
   "source": [
    "import glob\n",
    "\n",
    "read_files = glob.glob(\"Data/*.csv\")\n",
    "\n",
    "with open(\"wordlist.csv\", \"wb\") as outfile:\n",
    "    for f in read_files:\n",
    "        with open(f, \"rb\") as infile:\n",
    "            outfile.write(infile.read())"
   ]
  },
  {
   "cell_type": "code",
   "execution_count": 18,
   "metadata": {
    "collapsed": true
   },
   "outputs": [],
   "source": [
    "from textblob.classifiers import NaiveBayesClassifier\n",
    "\n",
    "with open('wordlist.csv', 'r') as fp:\n",
    "     cl = NaiveBayesClassifier(fp, format=\"csv\")"
   ]
  },
  {
   "cell_type": "code",
   "execution_count": 20,
   "metadata": {},
   "outputs": [
    {
     "name": "stdout",
     "output_type": "stream",
     "text": [
      "Negative---\t----basic 500 mhz ibook\n",
      "Negative---\t----poor\n",
      "Neutral---\t----how to operate this laptop.\n",
      "Postive---\t----my favorite computer!\n",
      "Postive---\t----great computer\n",
      "Neutral---\t----apple ibook laptop\n",
      "Postive---\t----the perfect compromise\n",
      "Postive---\t----best light notebook\n",
      "Postive---\t----best portable computer on the market\n",
      "Negative---\t----don't buy an ibook this slow\n"
     ]
    }
   ],
   "source": [
    "sample = df_make.Title.str.lower()\n",
    "for i in range(10):\n",
    "    print(cl.classify(sample[i])+ \"---\\t----\" +sample[i])"
   ]
  },
  {
   "cell_type": "code",
   "execution_count": 41,
   "metadata": {},
   "outputs": [],
   "source": [
    "global replacements\n",
    "replacements = {  \n",
    "    \"aren't\" : \"are not\",\n",
    "    \"can't\" : \"cannot\",\n",
    "    \"couldn't\" : \"could not\",\n",
    "    \"didn't\" : \"did not\",\n",
    "    \"doesn't\" : \"does not\",\n",
    "    \"don't\" : \"do not\",\n",
    "    \"dont\" : \"do not\",\n",
    "    \":)\" : \"good\",\n",
    "    \"=)\" : \"good\",\n",
    "    \":(\" : \"bad\",\n",
    "    \"hadn't\" : \"had not\",\n",
    "    \"hasn't\" : \"has not\",\n",
    "    \"haven't\" : \"have not\",\n",
    "    \"he'd\" : \"he would\",\n",
    "    \"he'll\" : \"he will\",\n",
    "    \"he's\" : \"he is\",\n",
    "    \"i'd\" : \"I would\",\n",
    "    \"i'd\" : \"I had\",\n",
    "    \"gr8\" : \"great\",\n",
    "    \"gud\":\"good\",\n",
    "    \"i'll\" : \"I will\",\n",
    "    \"i'm\" : \"I am\",\n",
    "    \"isn't\" : \"is not\",\n",
    "    \"it's\" : \"it is\",\n",
    "    \"it'll\":\"it will\",\n",
    "    \"i've\" : \"I have\",\n",
    "    \"let's\" : \"let us\",\n",
    "    \"mightn't\" : \"might not\",\n",
    "    \"mustn't\" : \"must not\",\n",
    "    \"shan't\" : \"shall not\",\n",
    "    \"she'd\" : \"she would\",\n",
    "    \"she'll\" : \"she will\",\n",
    "    \"she's\" : \"she is\",\n",
    "    \"shouldn't\" : \"should not\",\n",
    "    \"that's\" : \"that is\",\n",
    "    \"there's\" : \"there is\",\n",
    "    \"they'd\" : \"they would\",\n",
    "    \"they'll\" : \"they will\",\n",
    "    \"they're\" : \"they are\",\n",
    "    \"they've\" : \"they have\",\n",
    "    \"we'd\" : \"we would\",\n",
    "    \"we're\" : \"we are\",\n",
    "    \"weren't\" : \"were not\",\n",
    "    \"we've\" : \"we have\",\n",
    "    \"what'll\" : \"what will\",\n",
    "    \"what're\" : \"what are\",\n",
    "    \"what's\" : \"what is\",\n",
    "    \"what've\" : \"what have\",\n",
    "    \"where's\" : \"where is\",\n",
    "    \"who'd\" : \"who would\",\n",
    "    \"who'll\" : \"who will\",\n",
    "    \"who're\" : \"who are\",\n",
    "    \"who's\" : \"who is\",\n",
    "    \"who've\" : \"who have\",\n",
    "    \"won't\" : \"will not\",\n",
    "    \"wouldn't\" : \"would not\",\n",
    "    \"you'd\" : \"you would\",\n",
    "    \"you'll\" : \"you will\",\n",
    "    \"you're\" : \"you are\",\n",
    "    \"you've\" : \"you have\",\n",
    "    \"'re\": \" are\",\n",
    "    \"wasn't\": \"was not\",\n",
    "    \"we'll\": \"will\",\n",
    "    \"didn't\": \"did not\",\n",
    "    \"luv\" : \"love\",    \n",
    "    \"r\" : \"are\",  \n",
    "    \"u\" : \"you\",\n",
    "    \"v\" : \"we\",\n",
    "    \"gonna\" : \"going to\",\n",
    "    \"lappy\": \"laptop\",\n",
    "    \"da\" : \"the\",\n",
    "    \"toppa da line\":\"top of the line\",\n",
    "    \"dis\" : \"this\",\n",
    "    \"osm\" : \"awesome\"\n",
    "    }"
   ]
  },
  {
   "cell_type": "code",
   "execution_count": 53,
   "metadata": {
    "scrolled": true
   },
   "outputs": [],
   "source": [
    "def get_tag(Title):\n",
    "    s2 = ' '.join([replacements.get(w, w) for w in Title.lower().split()])\n",
    "    return cl.classify(s2)\n",
    "\n",
    "df_make[\"Tag\"] = df_make.Title.apply(get_tag)"
   ]
  },
  {
   "cell_type": "code",
   "execution_count": 54,
   "metadata": {},
   "outputs": [
    {
     "data": {
      "text/html": [
       "<div>\n",
       "<style>\n",
       "    .dataframe thead tr:only-child th {\n",
       "        text-align: right;\n",
       "    }\n",
       "\n",
       "    .dataframe thead th {\n",
       "        text-align: left;\n",
       "    }\n",
       "\n",
       "    .dataframe tbody tr th {\n",
       "        vertical-align: top;\n",
       "    }\n",
       "</style>\n",
       "<table border=\"1\" class=\"dataframe\">\n",
       "  <thead>\n",
       "    <tr style=\"text-align: right;\">\n",
       "      <th></th>\n",
       "      <th>Author</th>\n",
       "      <th>Content</th>\n",
       "      <th>Date</th>\n",
       "      <th>Name</th>\n",
       "      <th>Overall</th>\n",
       "      <th>ReviewID</th>\n",
       "      <th>Title</th>\n",
       "      <th>Make</th>\n",
       "      <th>Tag</th>\n",
       "    </tr>\n",
       "    <tr>\n",
       "      <th>ProductID</th>\n",
       "      <th></th>\n",
       "      <th></th>\n",
       "      <th></th>\n",
       "      <th></th>\n",
       "      <th></th>\n",
       "      <th></th>\n",
       "      <th></th>\n",
       "      <th></th>\n",
       "      <th></th>\n",
       "    </tr>\n",
       "  </thead>\n",
       "  <tbody>\n",
       "    <tr>\n",
       "      <th>B00005RI8P</th>\n",
       "      <td>R. G. Michel \"rgmichel\"</td>\n",
       "      <td>I bought the one with a 20 GB hard drive, and ...</td>\n",
       "      <td>November 25, 2001</td>\n",
       "      <td>Apple iBook Laptop (600-MHz PowerPC G3, 128 MB...</td>\n",
       "      <td>5.0</td>\n",
       "      <td>R1S40LH7VR7LZA</td>\n",
       "      <td>Basic 500 MHz iBook</td>\n",
       "      <td>apple</td>\n",
       "      <td>Negative</td>\n",
       "    </tr>\n",
       "    <tr>\n",
       "      <th>B00005RI8P</th>\n",
       "      <td>mary may</td>\n",
       "      <td>Computer has never worked. Screen is black onl...</td>\n",
       "      <td>December 17, 2013</td>\n",
       "      <td>Apple iBook Laptop (600-MHz PowerPC G3, 128 MB...</td>\n",
       "      <td>1.0</td>\n",
       "      <td>RY9V1118JJGZ8</td>\n",
       "      <td>poor</td>\n",
       "      <td>apple</td>\n",
       "      <td>Negative</td>\n",
       "    </tr>\n",
       "    <tr>\n",
       "      <th>B00005RI8P</th>\n",
       "      <td>NEE NEE</td>\n",
       "      <td>NEED A OPERATING MAUNAL ON HOW TO OPERATE THIS...</td>\n",
       "      <td>November 19, 2013</td>\n",
       "      <td>Apple iBook Laptop (600-MHz PowerPC G3, 128 MB...</td>\n",
       "      <td>1.0</td>\n",
       "      <td>R3F4SDPWJX7Y8D</td>\n",
       "      <td>HOW TO OPERATE THIS LAPTOP.</td>\n",
       "      <td>apple</td>\n",
       "      <td>Neutral</td>\n",
       "    </tr>\n",
       "    <tr>\n",
       "      <th>B00005RI8P</th>\n",
       "      <td>\"loki_shoki\"</td>\n",
       "      <td>This is my first laptop, although mine specifi...</td>\n",
       "      <td>March 29, 2002</td>\n",
       "      <td>Apple iBook Laptop (600-MHz PowerPC G3, 128 MB...</td>\n",
       "      <td>5.0</td>\n",
       "      <td>R2QM507XUNB7CW</td>\n",
       "      <td>My Favorite Computer!</td>\n",
       "      <td>apple</td>\n",
       "      <td>Postive</td>\n",
       "    </tr>\n",
       "    <tr>\n",
       "      <th>B00005RI8P</th>\n",
       "      <td>None</td>\n",
       "      <td>Until I got the Apple iBook, I had been a dieh...</td>\n",
       "      <td>March 21, 2002</td>\n",
       "      <td>Apple iBook Laptop (600-MHz PowerPC G3, 128 MB...</td>\n",
       "      <td>5.0</td>\n",
       "      <td>R19FQQMSLREWU2</td>\n",
       "      <td>Great Computer</td>\n",
       "      <td>apple</td>\n",
       "      <td>Postive</td>\n",
       "    </tr>\n",
       "  </tbody>\n",
       "</table>\n",
       "</div>"
      ],
      "text/plain": [
       "                             Author  \\\n",
       "ProductID                             \n",
       "B00005RI8P  R. G. Michel \"rgmichel\"   \n",
       "B00005RI8P                 mary may   \n",
       "B00005RI8P                  NEE NEE   \n",
       "B00005RI8P             \"loki_shoki\"   \n",
       "B00005RI8P                     None   \n",
       "\n",
       "                                                      Content  \\\n",
       "ProductID                                                       \n",
       "B00005RI8P  I bought the one with a 20 GB hard drive, and ...   \n",
       "B00005RI8P  Computer has never worked. Screen is black onl...   \n",
       "B00005RI8P  NEED A OPERATING MAUNAL ON HOW TO OPERATE THIS...   \n",
       "B00005RI8P  This is my first laptop, although mine specifi...   \n",
       "B00005RI8P  Until I got the Apple iBook, I had been a dieh...   \n",
       "\n",
       "                         Date  \\\n",
       "ProductID                       \n",
       "B00005RI8P  November 25, 2001   \n",
       "B00005RI8P  December 17, 2013   \n",
       "B00005RI8P  November 19, 2013   \n",
       "B00005RI8P     March 29, 2002   \n",
       "B00005RI8P     March 21, 2002   \n",
       "\n",
       "                                                         Name Overall  \\\n",
       "ProductID                                                               \n",
       "B00005RI8P  Apple iBook Laptop (600-MHz PowerPC G3, 128 MB...     5.0   \n",
       "B00005RI8P  Apple iBook Laptop (600-MHz PowerPC G3, 128 MB...     1.0   \n",
       "B00005RI8P  Apple iBook Laptop (600-MHz PowerPC G3, 128 MB...     1.0   \n",
       "B00005RI8P  Apple iBook Laptop (600-MHz PowerPC G3, 128 MB...     5.0   \n",
       "B00005RI8P  Apple iBook Laptop (600-MHz PowerPC G3, 128 MB...     5.0   \n",
       "\n",
       "                  ReviewID                        Title   Make       Tag  \n",
       "ProductID                                                                 \n",
       "B00005RI8P  R1S40LH7VR7LZA          Basic 500 MHz iBook  apple  Negative  \n",
       "B00005RI8P   RY9V1118JJGZ8                         poor  apple  Negative  \n",
       "B00005RI8P  R3F4SDPWJX7Y8D  HOW TO OPERATE THIS LAPTOP.  apple   Neutral  \n",
       "B00005RI8P  R2QM507XUNB7CW        My Favorite Computer!  apple   Postive  \n",
       "B00005RI8P  R19FQQMSLREWU2               Great Computer  apple   Postive  "
      ]
     },
     "execution_count": 54,
     "metadata": {},
     "output_type": "execute_result"
    }
   ],
   "source": [
    "df_make"
   ]
  },
  {
   "cell_type": "code",
   "execution_count": 55,
   "metadata": {
    "collapsed": true
   },
   "outputs": [],
   "source": [
    "df_make.to_pickle(path = '/Users/balaram_remala/Documents/GitHub/CORPUS/Project_Balaram/Data/Laptops_DataFrame_Tag', compression = None)"
   ]
  },
  {
   "cell_type": "code",
   "execution_count": 63,
   "metadata": {},
   "outputs": [
    {
     "data": {
      "image/png": "[encoded data removed]",
      "text/plain": [
       "<matplotlib.figure.Figure at 0x1a1848c390>"
      ]
     },
     "metadata": {},
     "output_type": "display_data"
    }
   ],
   "source": [
    "tag_count = df_make.Tag.value_counts().to_frame('Tag Counts')\n",
    "\n",
    "tag_count.plot(y = 'Tag Counts', kind = 'bar',rot = False)\n",
    "plt.title(\"Count of Pos/Neg/Neutral Reviews\")\n",
    "plt.show()"
   ]
  },
  {
   "cell_type": "code",
   "execution_count": 96,
   "metadata": {},
   "outputs": [
    {
     "data": {
      "image/png": "[encoded data removed]",
      "text/plain": [
       "<matplotlib.figure.Figure at 0x1a1906d610>"
      ]
     },
     "metadata": {},
     "output_type": "display_data"
    }
   ],
   "source": [
    "df_make_pos = df_make[(df_make['Tag'] == 'Postive')]\n",
    "\n",
    "df_plot_pos = df_make_pos['Make'].value_counts()[:10].to_frame(\"Make Counts\")\n",
    "\n",
    "df_plot_pos.plot(y = 'Make Counts', kind = 'bar')\n",
    "plt.title(\"Count of 10 Brands with Highest Positive Ratings\")\n",
    "plt.show()"
   ]
  },
  {
   "cell_type": "code",
   "execution_count": 97,
   "metadata": {},
   "outputs": [
    {
     "data": {
      "image/png": "[encoded data removed]",
      "text/plain": [
       "<matplotlib.figure.Figure at 0x10f5852d0>"
      ]
     },
     "metadata": {},
     "output_type": "display_data"
    }
   ],
   "source": [
    "df_make_neg = df_make[(df_make['Tag'] == 'Negative')]\n",
    "\n",
    "df_plot_neg = df_make_neg['Make'].value_counts()[:10].to_frame(\"Make Counts\")\n",
    "\n",
    "df_plot_neg.plot(y = 'Make Counts', kind = 'bar')\n",
    "plt.title(\"Count of 10 Brands with Highest Negative Ratings\")\n",
    "plt.show()"
   ]
  },
  {
   "cell_type": "code",
   "execution_count": 108,
   "metadata": {},
   "outputs": [],
   "source": [
    "df_tag_prop = df_plot_pos / df_plot_neg\n",
    "df_tag_prop = df_tag_prop.rename(columns= {\"Make Counts\":\"Ratio\"})"
   ]
  },
  {
   "cell_type": "code",
   "execution_count": 109,
   "metadata": {},
   "outputs": [
    {
     "data": {
      "text/html": [
       "<div>\n",
       "<style>\n",
       "    .dataframe thead tr:only-child th {\n",
       "        text-align: right;\n",
       "    }\n",
       "\n",
       "    .dataframe thead th {\n",
       "        text-align: left;\n",
       "    }\n",
       "\n",
       "    .dataframe tbody tr th {\n",
       "        vertical-align: top;\n",
       "    }\n",
       "</style>\n",
       "<table border=\"1\" class=\"dataframe\">\n",
       "  <thead>\n",
       "    <tr style=\"text-align: right;\">\n",
       "      <th></th>\n",
       "      <th>Ratio</th>\n",
       "    </tr>\n",
       "  </thead>\n",
       "  <tbody>\n",
       "    <tr>\n",
       "      <th>samsung</th>\n",
       "      <td>4.277778</td>\n",
       "    </tr>\n",
       "    <tr>\n",
       "      <th>apple</th>\n",
       "      <td>3.867982</td>\n",
       "    </tr>\n",
       "    <tr>\n",
       "      <th>acer</th>\n",
       "      <td>3.296552</td>\n",
       "    </tr>\n",
       "    <tr>\n",
       "      <th>gateway</th>\n",
       "      <td>2.979167</td>\n",
       "    </tr>\n",
       "    <tr>\n",
       "      <th>asus</th>\n",
       "      <td>2.639328</td>\n",
       "    </tr>\n",
       "    <tr>\n",
       "      <th>toshiba</th>\n",
       "      <td>2.509091</td>\n",
       "    </tr>\n",
       "    <tr>\n",
       "      <th>hp</th>\n",
       "      <td>2.454849</td>\n",
       "    </tr>\n",
       "    <tr>\n",
       "      <th>dell</th>\n",
       "      <td>2.407950</td>\n",
       "    </tr>\n",
       "    <tr>\n",
       "      <th>lenovo</th>\n",
       "      <td>2.221925</td>\n",
       "    </tr>\n",
       "    <tr>\n",
       "      <th>sony</th>\n",
       "      <td>1.904762</td>\n",
       "    </tr>\n",
       "  </tbody>\n",
       "</table>\n",
       "</div>"
      ],
      "text/plain": [
       "            Ratio\n",
       "samsung  4.277778\n",
       "apple    3.867982\n",
       "acer     3.296552\n",
       "gateway  2.979167\n",
       "asus     2.639328\n",
       "toshiba  2.509091\n",
       "hp       2.454849\n",
       "dell     2.407950\n",
       "lenovo   2.221925\n",
       "sony     1.904762"
      ]
     },
     "execution_count": 109,
     "metadata": {},
     "output_type": "execute_result"
    }
   ],
   "source": [
    "df_tag_prop.sort_values([('Ratio')],ascending = False)"
   ]
  },
  {
   "cell_type": "code",
   "execution_count": 128,
   "metadata": {},
   "outputs": [
    {
     "data": {
      "text/plain": [
       "<matplotlib.figure.Figure at 0x1a1848c450>"
      ]
     },
     "metadata": {},
     "output_type": "display_data"
    },
    {
     "data": {
      "image/png": "[encoded data removed]",
      "text/plain": [
       "<matplotlib.figure.Figure at 0x1a18f146d0>"
      ]
     },
     "metadata": {},
     "output_type": "display_data"
    },
    {
     "data": {
      "text/plain": [
       "<matplotlib.figure.Figure at 0x1a18fdc5d0>"
      ]
     },
     "execution_count": 128,
     "metadata": {},
     "output_type": "execute_result"
    }
   ],
   "source": [
    "df_tag_prop.plot(y = 'Ratio', kind = 'line', rot = True)\n",
    "plt.title(\"Proportions of pos:neg for top 10 Brands\")\n",
    "plt.show()"
   ]
  },
  {
   "cell_type": "code",
   "execution_count": 126,
   "metadata": {
    "collapsed": true
   },
   "outputs": [],
   "source": [
    "df_rev_counts = df_make.Make.value_counts()[:10].to_frame(\"Review Counts\")"
   ]
  },
  {
   "cell_type": "code",
   "execution_count": null,
   "metadata": {
    "collapsed": true
   },
   "outputs": [],
   "source": []
  }
 ],
 "metadata": {
  "kernelspec": {
   "display_name": "Python 2",
   "language": "python",
   "name": "python2"
  },
  "language_info": {
   "codemirror_mode": {
    "name": "ipython",
    "version": 2
   },
   "file_extension": ".py",
   "mimetype": "text/x-python",
   "name": "python",
   "nbconvert_exporter": "python",
   "pygments_lexer": "ipython2",
   "version": "2.7.13"
  }
 },
 "nbformat": 4,
 "nbformat_minor": 2
}
