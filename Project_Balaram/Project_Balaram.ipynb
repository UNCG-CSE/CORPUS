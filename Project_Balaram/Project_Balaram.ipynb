{
 "cells": [
  {
   "cell_type": "markdown",
   "metadata": {},
   "source": [
    "#  /Laptops"
   ]
  },
  {
   "cell_type": "code",
   "execution_count": 1,
   "metadata": {
    "scrolled": true
   },
   "outputs": [
    {
     "data": {
      "text/html": [
       "<div>\n",
       "<style>\n",
       "    .dataframe thead tr:only-child th {\n",
       "        text-align: right;\n",
       "    }\n",
       "\n",
       "    .dataframe thead th {\n",
       "        text-align: left;\n",
       "    }\n",
       "\n",
       "    .dataframe tbody tr th {\n",
       "        vertical-align: top;\n",
       "    }\n",
       "</style>\n",
       "<table border=\"1\" class=\"dataframe\">\n",
       "  <thead>\n",
       "    <tr style=\"text-align: right;\">\n",
       "      <th></th>\n",
       "      <th>Author</th>\n",
       "      <th>Content</th>\n",
       "      <th>Date</th>\n",
       "      <th>Name</th>\n",
       "      <th>Overall</th>\n",
       "      <th>ProductID</th>\n",
       "      <th>ReviewID</th>\n",
       "      <th>Title</th>\n",
       "    </tr>\n",
       "  </thead>\n",
       "  <tbody>\n",
       "    <tr>\n",
       "      <th>0</th>\n",
       "      <td>Walt Baty \"Walt 0000\"</td>\n",
       "      <td>Google is on to something here, but without a ...</td>\n",
       "      <td>January 10, 2012</td>\n",
       "      <td>None</td>\n",
       "      <td>5.0</td>\n",
       "      <td>1440490899</td>\n",
       "      <td>RUSGOFLB5XRWR</td>\n",
       "      <td>The most underrated and un-hyped new system</td>\n",
       "    </tr>\n",
       "    <tr>\n",
       "      <th>1</th>\n",
       "      <td>Poor  Audiophile \"Poor  Audiophile\"</td>\n",
       "      <td>This is a great intro. to the subject of Chrom...</td>\n",
       "      <td>January 30, 2012</td>\n",
       "      <td>None</td>\n",
       "      <td>5.0</td>\n",
       "      <td>1440490899</td>\n",
       "      <td>RAM6A980S6YMK</td>\n",
       "      <td>Excellent!!</td>\n",
       "    </tr>\n",
       "    <tr>\n",
       "      <th>2</th>\n",
       "      <td>William B. Rodgers \"peterodgers\"</td>\n",
       "      <td>not just a how to book but more about: 1. wher...</td>\n",
       "      <td>December 17, 2011</td>\n",
       "      <td>None</td>\n",
       "      <td>5.0</td>\n",
       "      <td>1440490899</td>\n",
       "      <td>R1DP7TCV8WOPMA</td>\n",
       "      <td>important chromebook resource</td>\n",
       "    </tr>\n",
       "    <tr>\n",
       "      <th>3</th>\n",
       "      <td>Snowbirds</td>\n",
       "      <td>I have experience with almost every OS out the...</td>\n",
       "      <td>September 23, 2012</td>\n",
       "      <td>None</td>\n",
       "      <td>5.0</td>\n",
       "      <td>1440490899</td>\n",
       "      <td>R212K0UDHZY44A</td>\n",
       "      <td>Could be a life changer</td>\n",
       "    </tr>\n",
       "    <tr>\n",
       "      <th>4</th>\n",
       "      <td>KWL</td>\n",
       "      <td>Disappointed.  I bought this after I got my AR...</td>\n",
       "      <td>December 4, 2012</td>\n",
       "      <td>None</td>\n",
       "      <td>1.0</td>\n",
       "      <td>1440490899</td>\n",
       "      <td>R6GIPSHI7QUUY</td>\n",
       "      <td>Not useful if you know about the Internet</td>\n",
       "    </tr>\n",
       "  </tbody>\n",
       "</table>\n",
       "</div>"
      ],
      "text/plain": [
       "                                Author  \\\n",
       "0                Walt Baty \"Walt 0000\"   \n",
       "1  Poor  Audiophile \"Poor  Audiophile\"   \n",
       "2     William B. Rodgers \"peterodgers\"   \n",
       "3                            Snowbirds   \n",
       "4                                  KWL   \n",
       "\n",
       "                                             Content                Date  \\\n",
       "0  Google is on to something here, but without a ...    January 10, 2012   \n",
       "1  This is a great intro. to the subject of Chrom...    January 30, 2012   \n",
       "2  not just a how to book but more about: 1. wher...   December 17, 2011   \n",
       "3  I have experience with almost every OS out the...  September 23, 2012   \n",
       "4  Disappointed.  I bought this after I got my AR...    December 4, 2012   \n",
       "\n",
       "   Name Overall   ProductID        ReviewID  \\\n",
       "0  None     5.0  1440490899   RUSGOFLB5XRWR   \n",
       "1  None     5.0  1440490899   RAM6A980S6YMK   \n",
       "2  None     5.0  1440490899  R1DP7TCV8WOPMA   \n",
       "3  None     5.0  1440490899  R212K0UDHZY44A   \n",
       "4  None     1.0  1440490899   R6GIPSHI7QUUY   \n",
       "\n",
       "                                         Title  \n",
       "0  The most underrated and un-hyped new system  \n",
       "1                                  Excellent!!  \n",
       "2                important chromebook resource  \n",
       "3                      Could be a life changer  \n",
       "4    Not useful if you know about the Internet  "
      ]
     },
     "execution_count": 1,
     "metadata": {},
     "output_type": "execute_result"
    }
   ],
   "source": [
    "import json,pandas,glob #Appending all the products info from multiple JSON files to single dataframe\n",
    "import os.path\n",
    "\n",
    "#d1 = []\n",
    "#d2 = []\n",
    "\n",
    "read_files = glob.glob(\"AmazonReviews/laptops/*.json\")\n",
    "Final_Laptops = pandas.DataFrame()\n",
    "for i in range(0,len(read_files)):\n",
    "    with open(read_files[i], 'rb') as x:\n",
    "        JSONFILE = json.load(x)\n",
    "    prod = JSONFILE['ProductInfo']\n",
    "    Review = JSONFILE['Reviews']\n",
    "    #d1.append(prod)\n",
    "    #d2.append(Review)\n",
    "    Reviews = pandas.DataFrame(Review)\n",
    "    Products = pandas.DataFrame(prod, index = Reviews.index)\n",
    "    merge = pandas.concat([Reviews, Products.ProductID, Products.Name], axis=1,join = 'inner')\n",
    "    Final_Laptops = pandas.concat([Final_Laptops,merge])\n",
    "    \n",
    "Final_Laptops.head()"
   ]
  },
  {
   "cell_type": "code",
   "execution_count": 2,
   "metadata": {},
   "outputs": [],
   "source": [
    "Final_DF = Final_Laptops.set_index('ProductID')"
   ]
  },
  {
   "cell_type": "code",
   "execution_count": 3,
   "metadata": {},
   "outputs": [],
   "source": [
    "Final_DF_notnull = Final_DF[Final_DF['Name'].notnull()]"
   ]
  },
  {
   "cell_type": "code",
   "execution_count": 4,
   "metadata": {
    "collapsed": true
   },
   "outputs": [],
   "source": [
    "Final_DF_null = Final_DF[Final_DF['Name'].isnull()]"
   ]
  },
  {
   "cell_type": "code",
   "execution_count": 5,
   "metadata": {},
   "outputs": [
    {
     "data": {
      "text/plain": [
       "Sentiment(polarity=0.5541666666666667, subjectivity=0.6111111111111112)"
      ]
     },
     "execution_count": 5,
     "metadata": {},
     "output_type": "execute_result"
    }
   ],
   "source": [
    "from textblob import TextBlob, Word\n",
    "\n",
    "x = TextBlob(Final_DF.Content[0])\n",
    "\n",
    "p_of_s = x.tags #parts of speech tags\n",
    "\n",
    "len(x.words) #word count\n",
    "\n",
    "x.sentiment #shows pos and neg score"
   ]
  },
  {
   "cell_type": "code",
   "execution_count": 6,
   "metadata": {
    "scrolled": true
   },
   "outputs": [
    {
     "data": {
      "text/plain": [
       "ProductID\n",
       "B00005RI8P            Basic 500 MHz iBook\n",
       "B00005RI8P                           poor\n",
       "B00005RI8P    HOW TO OPERATE THIS LAPTOP.\n",
       "B00005RI8P          My Favorite Computer!\n",
       "B00005RI8P                 Great Computer\n",
       "Name: Title, dtype: object"
      ]
     },
     "execution_count": 6,
     "metadata": {},
     "output_type": "execute_result"
    }
   ],
   "source": [
    "Final_DF_notnull.Title.head()"
   ]
  },
  {
   "cell_type": "code",
   "execution_count": 7,
   "metadata": {},
   "outputs": [],
   "source": [
    "neg_words = pandas.read_csv('words/negative-words.txt')\n",
    "neg_words['Tag'] = 'Negative'\n",
    "pos_words = pandas.read_csv('words/positive-words.txt')\n",
    "pos_words['Tag'] = 'Postive'\n",
    "neg_words.to_csv('words/neg_words.csv', index = None)\n",
    "pos_words.to_csv('words/pos_words.csv', index = None)"
   ]
  },
  {
   "cell_type": "code",
   "execution_count": 8,
   "metadata": {},
   "outputs": [],
   "source": [
    "import glob\n",
    "\n",
    "read_files = glob.glob(\"words/*.csv\")\n",
    "\n",
    "with open(\"wordlist.csv\", \"wb\") as outfile:\n",
    "    for f in read_files:\n",
    "        with open(f, \"rb\") as infile:\n",
    "            outfile.write(infile.read())"
   ]
  },
  {
   "cell_type": "code",
   "execution_count": null,
   "metadata": {
    "scrolled": false
   },
   "outputs": [],
   "source": [
    "from textblob.classifiers import NaiveBayesClassifier\n",
    "\n",
    "with open('wordlist.csv', 'r') as fp:\n",
    "     cl = NaiveBayesClassifier(fp, format=\"csv\")"
   ]
  },
  {
   "cell_type": "markdown",
   "metadata": {},
   "source": [
    "### At this point I am getting an error to train the classifier with positive and negative words and apply on Title/Content column to know if the review is positive or not"
   ]
  },
  {
   "cell_type": "code",
   "execution_count": null,
   "metadata": {
    "collapsed": true
   },
   "outputs": [],
   "source": []
  }
 ],
 "metadata": {
  "kernelspec": {
   "display_name": "Python 2",
   "language": "python",
   "name": "python2"
  },
  "language_info": {
   "codemirror_mode": {
    "name": "ipython",
    "version": 2
   },
   "file_extension": ".py",
   "mimetype": "text/x-python",
   "name": "python",
   "nbconvert_exporter": "python",
   "pygments_lexer": "ipython2",
   "version": "2.7.13"
  }
 },
 "nbformat": 4,
 "nbformat_minor": 2
}
